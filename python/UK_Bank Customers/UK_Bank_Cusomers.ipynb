{
 "cells": [
  {
   "cell_type": "code",
   "execution_count": 1,
   "id": "0a9eb9b0-1945-4c84-b7e5-a20a1c046fbb",
   "metadata": {},
   "outputs": [
    {
     "ename": "SyntaxError",
     "evalue": "invalid syntax (3961459493.py, line 5)",
     "output_type": "error",
     "traceback": [
      "\u001b[0;36m  Cell \u001b[0;32mIn[1], line 5\u001b[0;36m\u001b[0m\n\u001b[0;31m    def load_and_process_data(S6-UK-Bank-Customers.csv):\u001b[0m\n\u001b[0m                                ^\u001b[0m\n\u001b[0;31mSyntaxError\u001b[0m\u001b[0;31m:\u001b[0m invalid syntax\n"
     ]
    }
   ],
   "source": [
    "import pandas as pd\n",
    "import numpy as np\n",
    "\n",
    "# Loading the CSV data\n",
    "def load_and_process_data(S6-UK-Bank-Customers.csv):\n",
    "    # Reading the CSV file\n",
    "    df = pd.read_csv(S6-UK-Bank-Customers.csv)\n",
    "    \n",
    "    # Cleaning data: removing any rows with missing values\n",
    "    df = df.dropna()\n",
    "    \n",
    "    # Converting Balance to numeric, handling any potential errors\n",
    "    df['Balance'] = pd.to_numeric(df['Balance'], errors='coerce')\n",
    "    \n",
    "    # Grouping by Region to get customer counts\n",
    "    region_counts = df['Region'].value_counts()\n",
    "    \n",
    "    return df, region_counts\n",
    "\n",
    "# Function to save processed data\n",
    "def save_processed_data(region_counts, output_filename=\"region_counts.csv\"):\n",
    "    region_counts.to_csv(output_filename)\n",
    "    return output_filename\n",
    "\n",
    "if __name__ == \"__main__\":\n",
    "    # Assuming the data file is available as 'S6-UK-Bank-Customers.csv'\n",
    "    filename = \"S6-UK-Bank-Customers.csv\"\n",
    "    df, region_counts = load_and_process_data(filename)\n",
    "    output_file = save_processed_data(region_counts)\n",
    "    print(f\"Processed data saved to {output_file}\")\n",
    "    print(\"\\nCustomer counts by region:\")\n",
    "    print(region_counts)"
   ]
  },
  {
   "cell_type": "code",
   "execution_count": 2,
   "id": "11e1e1be-a1b0-48c3-a740-dddbb19ebb39",
   "metadata": {},
   "outputs": [
    {
     "name": "stdout",
     "output_type": "stream",
     "text": [
      "Processed data saved to region_counts.csv\n",
      "\n",
      "Customer counts by region:\n",
      "Region\n",
      "England             2159\n",
      "Scotland            1124\n",
      "Wales                520\n",
      "Northern Ireland     211\n",
      "Name: count, dtype: int64\n"
     ]
    }
   ],
   "source": [
    "import pandas as pd\n",
    "import numpy as np\n",
    "\n",
    "# Loading the CSV data\n",
    "def load_and_process_data(filename):  # Changed parameter to a proper variable name\n",
    "    # Reading the CSV file\n",
    "    df = pd.read_csv(filename)  # Use the parameter variable\n",
    "    \n",
    "    # Cleaning data: removing any rows with missing values\n",
    "    df = df.dropna()\n",
    "    \n",
    "    # Converting Balance to numeric, handling any potential errors\n",
    "    df['Balance'] = pd.to_numeric(df['Balance'], errors='coerce')\n",
    "    \n",
    "    # Grouping by Region to get customer counts\n",
    "    region_counts = df['Region'].value_counts()\n",
    "    \n",
    "    return df, region_counts\n",
    "\n",
    "# Function to save processed data\n",
    "def save_processed_data(region_counts, output_filename=\"region_counts.csv\"):\n",
    "    region_counts.to_csv(output_filename)\n",
    "    return output_filename\n",
    "\n",
    "if __name__ == \"__main__\":\n",
    "    # Assuming the data file is available as 'S6-UK-Bank-Customers.csv'\n",
    "    filename = \"S6-UK-Bank-Customers.csv\"\n",
    "    df, region_counts = load_and_process_data(filename)\n",
    "    output_file = save_processed_data(region_counts)\n",
    "    print(f\"Processed data saved to {output_file}\")\n",
    "    print(\"\\nCustomer counts by region:\")\n",
    "    print(region_counts)"
   ]
  },
  {
   "cell_type": "code",
   "execution_count": 3,
   "id": "8392f959-69ed-4770-8f37-973b90bbfb12",
   "metadata": {},
   "outputs": [
    {
     "ename": "TypeError",
     "evalue": "read_csv() got an unexpected keyword argument 'squeeze'",
     "output_type": "error",
     "traceback": [
      "\u001b[0;31m---------------------------------------------------------------------------\u001b[0m",
      "\u001b[0;31mTypeError\u001b[0m                                 Traceback (most recent call last)",
      "Cell \u001b[0;32mIn[3], line 31\u001b[0m\n\u001b[1;32m     27\u001b[0m     plt\u001b[38;5;241m.\u001b[39mclose()\n\u001b[1;32m     29\u001b[0m \u001b[38;5;28;01mif\u001b[39;00m \u001b[38;5;18m__name__\u001b[39m \u001b[38;5;241m==\u001b[39m \u001b[38;5;124m\"\u001b[39m\u001b[38;5;124m__main__\u001b[39m\u001b[38;5;124m\"\u001b[39m:\n\u001b[1;32m     30\u001b[0m     \u001b[38;5;66;03m# Loading the processed region counts\u001b[39;00m\n\u001b[0;32m---> 31\u001b[0m     region_counts \u001b[38;5;241m=\u001b[39m load_region_counts()\n\u001b[1;32m     33\u001b[0m     \u001b[38;5;66;03m# Generating the visualization\u001b[39;00m\n\u001b[1;32m     34\u001b[0m     plot_customers_by_region(region_counts)\n",
      "Cell \u001b[0;32mIn[3], line 6\u001b[0m, in \u001b[0;36mload_region_counts\u001b[0;34m(filename)\u001b[0m\n\u001b[1;32m      5\u001b[0m \u001b[38;5;28;01mdef\u001b[39;00m \u001b[38;5;21mload_region_counts\u001b[39m(filename\u001b[38;5;241m=\u001b[39m\u001b[38;5;124m\"\u001b[39m\u001b[38;5;124mregion_counts.csv\u001b[39m\u001b[38;5;124m\"\u001b[39m):\n\u001b[0;32m----> 6\u001b[0m     \u001b[38;5;28;01mreturn\u001b[39;00m pd\u001b[38;5;241m.\u001b[39mread_csv(filename, index_col\u001b[38;5;241m=\u001b[39m\u001b[38;5;241m0\u001b[39m, squeeze\u001b[38;5;241m=\u001b[39m\u001b[38;5;28;01mTrue\u001b[39;00m)\n",
      "\u001b[0;31mTypeError\u001b[0m: read_csv() got an unexpected keyword argument 'squeeze'"
     ]
    }
   ],
   "source": [
    "import pandas as pd\n",
    "import matplotlib.pyplot as plt\n",
    "\n",
    "# Loading processed region counts\n",
    "def load_region_counts(filename=\"region_counts.csv\"):\n",
    "    return pd.read_csv(filename, index_col=0, squeeze=True)\n",
    "\n",
    "# Creating a bar chart for customers by region\n",
    "def plot_customers_by_region(region_counts):\n",
    "    plt.figure(figsize=(10, 6))\n",
    "    region_counts.plot(kind='bar', color='skyblue')\n",
    "    \n",
    "    # Adding titles and labels\n",
    "    plt.title('UK Bank Customers by Region', fontsize=14)\n",
    "    plt.xlabel('Region', fontsize=12)\n",
    "    plt.ylabel('Number of Customers', fontsize=12)\n",
    "    \n",
    "    # Adding value labels on top of bars\n",
    "    for i, count in enumerate(region_counts):\n",
    "        plt.text(i, count + 5, str(count), ha='center', fontsize=10)\n",
    "    \n",
    "    # Adjusting layout to prevent label cutoff\n",
    "    plt.tight_layout()\n",
    "    \n",
    "    # Saving the plot\n",
    "    plt.savefig('customers_by_region.png')\n",
    "    plt.close()\n",
    "\n",
    "if __name__ == \"__main__\":\n",
    "    # Loading the processed region counts\n",
    "    region_counts = load_region_counts()\n",
    "    \n",
    "    # Generating the visualization\n",
    "    plot_customers_by_region(region_counts)\n",
    "    print(\"Bar chart saved as 'customers_by_region.png'\")"
   ]
  },
  {
   "cell_type": "code",
   "execution_count": 4,
   "id": "438bad47-42c6-4b52-97f7-164699ad0c50",
   "metadata": {},
   "outputs": [
    {
     "name": "stdout",
     "output_type": "stream",
     "text": [
      "Bar chart saved as 'customers_by_region.png'\n"
     ]
    }
   ],
   "source": [
    "import pandas as pd\n",
    "import matplotlib.pyplot as plt\n",
    "\n",
    "# Loading processed region counts\n",
    "def load_region_counts(filename=\"region_counts.csv\"):\n",
    "    # Removed 'squeeze=True' and added .squeeze() method after reading the CSV\n",
    "    return pd.read_csv(filename, index_col=0).squeeze()\n",
    "\n",
    "# Creating a bar chart for customers by region\n",
    "def plot_customers_by_region(region_counts):\n",
    "    plt.figure(figsize=(10, 6))\n",
    "    region_counts.plot(kind='bar', color='skyblue')\n",
    "    \n",
    "    # Adding titles and labels\n",
    "    plt.title('UK Bank Customers by Region', fontsize=14)\n",
    "    plt.xlabel('Region', fontsize=12)\n",
    "    plt.ylabel('Number of Customers', fontsize=12)\n",
    "    \n",
    "    # Adding value labels on top of bars\n",
    "    for i, count in enumerate(region_counts):\n",
    "        plt.text(i, count + 5, str(count), ha='center', fontsize=10)\n",
    "    \n",
    "    # Adjusting layout to prevent label cutoff\n",
    "    plt.tight_layout()\n",
    "    \n",
    "    # Saving the plot\n",
    "    plt.savefig('customers_by_region.png')\n",
    "    plt.close()\n",
    "\n",
    "if __name__ == \"__main__\":\n",
    "    # Loading the processed region counts\n",
    "    region_counts = load_region_counts()\n",
    "    \n",
    "    # Generating the visualization\n",
    "    plot_customers_by_region(region_counts)\n",
    "    print(\"Bar chart saved as 'customers_by_region.png'\")"
   ]
  },
  {
   "cell_type": "code",
   "execution_count": null,
   "id": "90cf8794-cf67-430f-a504-baadc8123dd1",
   "metadata": {},
   "outputs": [],
   "source": [
    "import pandas as pd\n",
    "import geopandas as gpd\n",
    "import matplotlib.pyplot as plt\n",
    "from matplotlib.colors import LinearSegmentedColormap\n",
    "import contextily as ctx\n",
    "\n",
    "# Loading processed region counts\n",
    "def load_region_counts(filename=\"region_counts.csv\"):\n",
    "    return pd.read_csv(filename, index_col=0).squeeze()\n",
    "\n",
    "# Creating a choropleth map for customers by region\n",
    "def plot_uk_map_customers(region_counts):\n",
    "    # Load UK shapefile (you may need to download this)\n",
    "    # This uses the standard UK administrative boundaries\n",
    "    uk_map = gpd.read_file(gpd.datasets.get_path('uk_regions'))\n",
    "    \n",
    "    # Ensure the region names match between your data and the shapefile\n",
    "    # You might need to adjust this mapping based on your actual data\n",
    "    # This is a simplified example\n",
    "    uk_map['region_name'] = uk_map['name'].str.upper()\n",
    "    \n",
    "    # Merge the customer counts with the map data\n",
    "    # Convert region_counts to DataFrame for merging\n",
    "    region_counts_df = region_counts.reset_index()\n",
    "    region_counts_df.columns = ['region_name', 'customer_count']\n",
    "    \n",
    "    # Make sure region names are in the same format\n",
    "    region_counts_df['region_name'] = region_counts_df['region_name'].str.upper()\n",
    "    \n",
    "    # Merge the geodata with customer counts\n",
    "    uk_map = uk_map.merge(region_counts_df, on='region_name', how='left')\n",
    "    \n",
    "    # Create the plot\n",
    "    fig, ax = plt.subplots(1, 1, figsize=(15, 10))\n",
    "    \n",
    "    # Create a custom colormap from light to dark blue\n",
    "    colors = ['#f7fbff', '#08306b']  # Light blue to dark blue\n",
    "    cmap = LinearSegmentedColormap.from_list('custom_blue', colors, N=256)\n",
    "    \n",
    "    # Plot the map with customer counts determining the color\n",
    "    uk_map.plot(column='customer_count', \n",
    "                ax=ax,\n",
    "                legend=True,\n",
    "                cmap=cmap,\n",
    "                legend_kwds={'label': \"Number of Customers\",\n",
    "                             'orientation': \"vertical\"})\n",
    "    \n",
    "    # Add basemap for context\n",
    "    try:\n",
    "        ctx.add_basemap(ax, crs=uk_map.crs.to_string())\n",
    "    except:\n",
    "        # If adding basemap fails, continue without it\n",
    "        pass\n",
    "    \n",
    "    # Add title and remove axis\n",
    "    ax.set_title('UK Bank Customers by Region', fontsize=16)\n",
    "    ax.set_axis_off()\n",
    "    \n",
    "    # Add text labels with customer counts\n",
    "    for idx, row in uk_map.iterrows():\n",
    "        if pd.notna(row['customer_count']):\n",
    "            # Get the centroid of each region to place the text\n",
    "            centroid = row['geometry'].centroid\n",
    "            ax.text(centroid.x, centroid.y, str(int(row['customer_count'])), \n",
    "                    ha='center', fontweight='bold', color='black')\n",
    "    \n",
    "    # Save the figure\n",
    "    plt.savefig('uk_customers_map.png', dpi=300, bbox_inches='tight')\n",
    "    plt.close()\n",
    "\n",
    "if __name__ == \"__main__\":\n",
    "    # Loading the processed region counts\n",
    "    region_counts = load_region_counts()\n",
    "    \n",
    "    # Generating the visualization\n",
    "    plot_uk_map_customers(region_counts)\n",
    "    print(\"UK map visualization saved as 'uk_customers_map.png'\")"
   ]
  },
  {
   "cell_type": "code",
   "execution_count": 6,
   "id": "bf13b2f8-7203-4826-8721-cf02071ec171",
   "metadata": {},
   "outputs": [
    {
     "data": {
      "text/plain": [
       "<Figure size 640x480 with 0 Axes>"
      ]
     },
     "metadata": {},
     "output_type": "display_data"
    }
   ],
   "source": [
    "plt.savefig('uk_customers_map.png', dpi=300, bbox_inches='tight')"
   ]
  },
  {
   "cell_type": "code",
   "execution_count": null,
   "id": "eb93a9d9-fb0a-45a7-b8c3-75ad8aaf34a2",
   "metadata": {},
   "outputs": [],
   "source": []
  }
 ],
 "metadata": {
  "kernelspec": {
   "display_name": "Python [conda env:base] *",
   "language": "python",
   "name": "conda-base-py"
  },
  "language_info": {
   "codemirror_mode": {
    "name": "ipython",
    "version": 3
   },
   "file_extension": ".py",
   "mimetype": "text/x-python",
   "name": "python",
   "nbconvert_exporter": "python",
   "pygments_lexer": "ipython3",
   "version": "3.12.7"
  }
 },
 "nbformat": 4,
 "nbformat_minor": 5
}
